{
 "cells": [
  {
   "cell_type": "markdown",
   "metadata": {},
   "source": [
    "# Requirements"
   ]
  },
  {
   "cell_type": "markdown",
   "metadata": {},
   "source": [
    "## Layout requirements\n",
    "\n",
    "Generate a layout for each assay in a csv format containing the following columns:\n",
    "\n",
    "- \"Well\": name of each well, i.e., A1, A2, A3....\n",
    "- \"Treatment\": name of the treatment contained in each well, i.e., Control, Nanoparticle....\n",
    "- \"Cell\": name of the cell lineage that was used in that well.\n",
    "\n",
    "The filename must be: \"layout_YYYYMMDD.csv\""
   ]
  },
  {
   "cell_type": "markdown",
   "metadata": {},
   "source": [
    "## Data format\n",
    "Have a csv file containing the following informations in each column:\n",
    "- \"Time\": time taken to acquire each image, preferably in minutes.\n",
    "- \"Area\": area measured in each image at that point in time, preferably in pixels."
   ]
  },
  {
   "cell_type": "markdown",
   "metadata": {},
   "source": [
    "## Folder requirements\n",
    "\n",
    "Folders must be organized by the date (YYYYMMDD) of the assay with all the files inside that folder. Example:\n",
    "- 20210428/A1_data.csv"
   ]
  },
  {
   "cell_type": "code",
   "execution_count": 1,
   "metadata": {},
   "outputs": [],
   "source": [
    "import utilitary\n",
    "%matplotlib inline"
   ]
  },
  {
   "cell_type": "code",
   "execution_count": 2,
   "metadata": {},
   "outputs": [
    {
     "name": "stdin",
     "output_type": "stream",
     "text": [
      "Which objective size have you used? Options are 4x, 10x and 20x. 4x\n"
     ]
    },
    {
     "name": "stdout",
     "output_type": "stream",
     "text": [
      "Objective conversion from um to pixels is 1.611928 micrometers.\n"
     ]
    },
    {
     "name": "stdin",
     "output_type": "stream",
     "text": [
      "Provide a figure to measure the area and height in pixels. Provide name with extension (.tif, .png) A1_03_1_1_Phase Contrast_001.tif\n"
     ]
    },
    {
     "name": "stdout",
     "output_type": "stream",
     "text": [
      "Total area in pixels = 1106496\n",
      "Picture height = 904\n"
     ]
    }
   ],
   "source": [
    "objective_conversion = utilitary.fig_micrometers()\n",
    "figname = input(\"Provide a figure to measure the area and height in pixels. Provide name with extension (.tif, .png)\")\n",
    "pic_total_area = utilitary.fig_total_area(figname)\n",
    "pic_height = utilitary.pic_height(figname)"
   ]
  },
  {
   "cell_type": "code",
   "execution_count": 214,
   "metadata": {},
   "outputs": [
    {
     "name": "stdin",
     "output_type": "stream",
     "text": [
      "What's the terminator that comes after the name of the well? Example: _dados, _data, etc. _data\n",
      "What's the name of the column containing the AREA, IN PIXELS? Area (pixel^2)\n",
      "What's the name of the column containig the TIME, IN MINUTES? Time (min)\n"
     ]
    }
   ],
   "source": [
    "terminator = input(\"What's the terminator that comes after the name of the well? Example: _dados, _data, etc.\")\n",
    "area_column = input(\"What's the name of the column containing the AREA, IN PIXELS?\")\n",
    "time_column = input(\"What's the name of the column containig the TIME, IN MINUTES?\")"
   ]
  },
  {
   "cell_type": "code",
   "execution_count": 228,
   "metadata": {},
   "outputs": [
    {
     "name": "stdin",
     "output_type": "stream",
     "text": [
      "Which is the date of your experiment (YYYYMMD)? Provide the path if different from YYYYMMDD 20210428\n"
     ]
    },
    {
     "data": {
      "text/html": [
       "<div>\n",
       "<style scoped>\n",
       "    .dataframe tbody tr th:only-of-type {\n",
       "        vertical-align: middle;\n",
       "    }\n",
       "\n",
       "    .dataframe tbody tr th {\n",
       "        vertical-align: top;\n",
       "    }\n",
       "\n",
       "    .dataframe thead th {\n",
       "        text-align: right;\n",
       "    }\n",
       "</style>\n",
       "<table border=\"1\" class=\"dataframe\">\n",
       "  <thead>\n",
       "    <tr style=\"text-align: right;\">\n",
       "      <th></th>\n",
       "      <th>Well</th>\n",
       "      <th>Cell</th>\n",
       "      <th>Treatment</th>\n",
       "      <th>Slope</th>\n",
       "      <th>Intercept</th>\n",
       "      <th>R^2 score</th>\n",
       "      <th>Velocity</th>\n",
       "      <th>Time</th>\n",
       "      <th>Begin</th>\n",
       "      <th>End</th>\n",
       "    </tr>\n",
       "  </thead>\n",
       "  <tbody>\n",
       "    <tr>\n",
       "      <th>0</th>\n",
       "      <td>A1</td>\n",
       "      <td>PNT1A</td>\n",
       "      <td>Control</td>\n",
       "      <td>0.0</td>\n",
       "      <td>0.0</td>\n",
       "      <td>0.0</td>\n",
       "      <td>0.0</td>\n",
       "      <td>0.0</td>\n",
       "      <td>0.0</td>\n",
       "      <td>0.6</td>\n",
       "    </tr>\n",
       "    <tr>\n",
       "      <th>1</th>\n",
       "      <td>A2</td>\n",
       "      <td>PNT1A</td>\n",
       "      <td>Control</td>\n",
       "      <td>0.0</td>\n",
       "      <td>0.0</td>\n",
       "      <td>0.0</td>\n",
       "      <td>0.0</td>\n",
       "      <td>0.0</td>\n",
       "      <td>0.0</td>\n",
       "      <td>0.6</td>\n",
       "    </tr>\n",
       "    <tr>\n",
       "      <th>2</th>\n",
       "      <td>A3</td>\n",
       "      <td>PNT1A</td>\n",
       "      <td>Methacycline 5 uM</td>\n",
       "      <td>0.0</td>\n",
       "      <td>0.0</td>\n",
       "      <td>0.0</td>\n",
       "      <td>0.0</td>\n",
       "      <td>0.0</td>\n",
       "      <td>0.0</td>\n",
       "      <td>0.6</td>\n",
       "    </tr>\n",
       "    <tr>\n",
       "      <th>3</th>\n",
       "      <td>A4</td>\n",
       "      <td>PC3</td>\n",
       "      <td>Control</td>\n",
       "      <td>0.0</td>\n",
       "      <td>0.0</td>\n",
       "      <td>0.0</td>\n",
       "      <td>0.0</td>\n",
       "      <td>0.0</td>\n",
       "      <td>0.0</td>\n",
       "      <td>0.6</td>\n",
       "    </tr>\n",
       "    <tr>\n",
       "      <th>4</th>\n",
       "      <td>A5</td>\n",
       "      <td>PC3</td>\n",
       "      <td>Control</td>\n",
       "      <td>0.0</td>\n",
       "      <td>0.0</td>\n",
       "      <td>0.0</td>\n",
       "      <td>0.0</td>\n",
       "      <td>0.0</td>\n",
       "      <td>0.0</td>\n",
       "      <td>0.6</td>\n",
       "    </tr>\n",
       "    <tr>\n",
       "      <th>5</th>\n",
       "      <td>A6</td>\n",
       "      <td>PC3</td>\n",
       "      <td>Methacycline 5 uM</td>\n",
       "      <td>0.0</td>\n",
       "      <td>0.0</td>\n",
       "      <td>0.0</td>\n",
       "      <td>0.0</td>\n",
       "      <td>0.0</td>\n",
       "      <td>0.0</td>\n",
       "      <td>0.6</td>\n",
       "    </tr>\n",
       "    <tr>\n",
       "      <th>6</th>\n",
       "      <td>B1</td>\n",
       "      <td>PNT1A</td>\n",
       "      <td>TGF-B 1 ng/mL</td>\n",
       "      <td>0.0</td>\n",
       "      <td>0.0</td>\n",
       "      <td>0.0</td>\n",
       "      <td>0.0</td>\n",
       "      <td>0.0</td>\n",
       "      <td>0.0</td>\n",
       "      <td>0.6</td>\n",
       "    </tr>\n",
       "    <tr>\n",
       "      <th>7</th>\n",
       "      <td>B2</td>\n",
       "      <td>PNT1A</td>\n",
       "      <td>TGF-B 1 ng/mL</td>\n",
       "      <td>0.0</td>\n",
       "      <td>0.0</td>\n",
       "      <td>0.0</td>\n",
       "      <td>0.0</td>\n",
       "      <td>0.0</td>\n",
       "      <td>0.0</td>\n",
       "      <td>0.6</td>\n",
       "    </tr>\n",
       "    <tr>\n",
       "      <th>8</th>\n",
       "      <td>B3</td>\n",
       "      <td>PNT1A</td>\n",
       "      <td>Methacycline 10 uM</td>\n",
       "      <td>0.0</td>\n",
       "      <td>0.0</td>\n",
       "      <td>0.0</td>\n",
       "      <td>0.0</td>\n",
       "      <td>0.0</td>\n",
       "      <td>0.0</td>\n",
       "      <td>0.6</td>\n",
       "    </tr>\n",
       "    <tr>\n",
       "      <th>9</th>\n",
       "      <td>B4</td>\n",
       "      <td>PC3</td>\n",
       "      <td>TGF-B 1 ng/mL</td>\n",
       "      <td>0.0</td>\n",
       "      <td>0.0</td>\n",
       "      <td>0.0</td>\n",
       "      <td>0.0</td>\n",
       "      <td>0.0</td>\n",
       "      <td>0.0</td>\n",
       "      <td>0.6</td>\n",
       "    </tr>\n",
       "    <tr>\n",
       "      <th>10</th>\n",
       "      <td>B5</td>\n",
       "      <td>PC3</td>\n",
       "      <td>TGF-B 1 ng/mL</td>\n",
       "      <td>0.0</td>\n",
       "      <td>0.0</td>\n",
       "      <td>0.0</td>\n",
       "      <td>0.0</td>\n",
       "      <td>0.0</td>\n",
       "      <td>0.0</td>\n",
       "      <td>0.6</td>\n",
       "    </tr>\n",
       "    <tr>\n",
       "      <th>11</th>\n",
       "      <td>B6</td>\n",
       "      <td>PC3</td>\n",
       "      <td>Methacycline 10 uM</td>\n",
       "      <td>0.0</td>\n",
       "      <td>0.0</td>\n",
       "      <td>0.0</td>\n",
       "      <td>0.0</td>\n",
       "      <td>0.0</td>\n",
       "      <td>0.0</td>\n",
       "      <td>0.6</td>\n",
       "    </tr>\n",
       "    <tr>\n",
       "      <th>12</th>\n",
       "      <td>C1</td>\n",
       "      <td>PNT1A</td>\n",
       "      <td>TGF-B 5 ng/mL</td>\n",
       "      <td>0.0</td>\n",
       "      <td>0.0</td>\n",
       "      <td>0.0</td>\n",
       "      <td>0.0</td>\n",
       "      <td>0.0</td>\n",
       "      <td>0.0</td>\n",
       "      <td>0.6</td>\n",
       "    </tr>\n",
       "    <tr>\n",
       "      <th>13</th>\n",
       "      <td>C2</td>\n",
       "      <td>PNT1A</td>\n",
       "      <td>TGF-B 5 ng/mL</td>\n",
       "      <td>0.0</td>\n",
       "      <td>0.0</td>\n",
       "      <td>0.0</td>\n",
       "      <td>0.0</td>\n",
       "      <td>0.0</td>\n",
       "      <td>0.0</td>\n",
       "      <td>0.6</td>\n",
       "    </tr>\n",
       "    <tr>\n",
       "      <th>14</th>\n",
       "      <td>C3</td>\n",
       "      <td>PNT1A</td>\n",
       "      <td>Methacycline 20 uM</td>\n",
       "      <td>0.0</td>\n",
       "      <td>0.0</td>\n",
       "      <td>0.0</td>\n",
       "      <td>0.0</td>\n",
       "      <td>0.0</td>\n",
       "      <td>0.0</td>\n",
       "      <td>0.6</td>\n",
       "    </tr>\n",
       "    <tr>\n",
       "      <th>15</th>\n",
       "      <td>C4</td>\n",
       "      <td>PC3</td>\n",
       "      <td>TGF-B 5 ng/mL</td>\n",
       "      <td>0.0</td>\n",
       "      <td>0.0</td>\n",
       "      <td>0.0</td>\n",
       "      <td>0.0</td>\n",
       "      <td>0.0</td>\n",
       "      <td>0.0</td>\n",
       "      <td>0.6</td>\n",
       "    </tr>\n",
       "    <tr>\n",
       "      <th>16</th>\n",
       "      <td>C5</td>\n",
       "      <td>PC3</td>\n",
       "      <td>TGF-B 5 ng/mL</td>\n",
       "      <td>0.0</td>\n",
       "      <td>0.0</td>\n",
       "      <td>0.0</td>\n",
       "      <td>0.0</td>\n",
       "      <td>0.0</td>\n",
       "      <td>0.0</td>\n",
       "      <td>0.6</td>\n",
       "    </tr>\n",
       "    <tr>\n",
       "      <th>17</th>\n",
       "      <td>C6</td>\n",
       "      <td>PC3</td>\n",
       "      <td>Methacycline 20 uM</td>\n",
       "      <td>0.0</td>\n",
       "      <td>0.0</td>\n",
       "      <td>0.0</td>\n",
       "      <td>0.0</td>\n",
       "      <td>0.0</td>\n",
       "      <td>0.0</td>\n",
       "      <td>0.6</td>\n",
       "    </tr>\n",
       "    <tr>\n",
       "      <th>18</th>\n",
       "      <td>D1</td>\n",
       "      <td>PNT1A</td>\n",
       "      <td>TGF-B 10 ng/mL</td>\n",
       "      <td>0.0</td>\n",
       "      <td>0.0</td>\n",
       "      <td>0.0</td>\n",
       "      <td>0.0</td>\n",
       "      <td>0.0</td>\n",
       "      <td>0.0</td>\n",
       "      <td>0.6</td>\n",
       "    </tr>\n",
       "    <tr>\n",
       "      <th>19</th>\n",
       "      <td>D2</td>\n",
       "      <td>PNT1A</td>\n",
       "      <td>TGF-B 10 ng/mL</td>\n",
       "      <td>0.0</td>\n",
       "      <td>0.0</td>\n",
       "      <td>0.0</td>\n",
       "      <td>0.0</td>\n",
       "      <td>0.0</td>\n",
       "      <td>0.0</td>\n",
       "      <td>0.6</td>\n",
       "    </tr>\n",
       "    <tr>\n",
       "      <th>20</th>\n",
       "      <td>D3</td>\n",
       "      <td>PNT1A</td>\n",
       "      <td>Methacycline 20 uM + TGF-B 10 ng/mL</td>\n",
       "      <td>0.0</td>\n",
       "      <td>0.0</td>\n",
       "      <td>0.0</td>\n",
       "      <td>0.0</td>\n",
       "      <td>0.0</td>\n",
       "      <td>0.0</td>\n",
       "      <td>0.6</td>\n",
       "    </tr>\n",
       "    <tr>\n",
       "      <th>21</th>\n",
       "      <td>D4</td>\n",
       "      <td>PC3</td>\n",
       "      <td>TGF-B 10 ng/mL</td>\n",
       "      <td>0.0</td>\n",
       "      <td>0.0</td>\n",
       "      <td>0.0</td>\n",
       "      <td>0.0</td>\n",
       "      <td>0.0</td>\n",
       "      <td>0.0</td>\n",
       "      <td>0.6</td>\n",
       "    </tr>\n",
       "    <tr>\n",
       "      <th>22</th>\n",
       "      <td>D5</td>\n",
       "      <td>PC3</td>\n",
       "      <td>TGF-B 10 ng/mL</td>\n",
       "      <td>0.0</td>\n",
       "      <td>0.0</td>\n",
       "      <td>0.0</td>\n",
       "      <td>0.0</td>\n",
       "      <td>0.0</td>\n",
       "      <td>0.0</td>\n",
       "      <td>0.6</td>\n",
       "    </tr>\n",
       "    <tr>\n",
       "      <th>23</th>\n",
       "      <td>D6</td>\n",
       "      <td>PC3</td>\n",
       "      <td>Methacycline 20 uM + TGF-B 10 ng/mL</td>\n",
       "      <td>0.0</td>\n",
       "      <td>0.0</td>\n",
       "      <td>0.0</td>\n",
       "      <td>0.0</td>\n",
       "      <td>0.0</td>\n",
       "      <td>0.0</td>\n",
       "      <td>0.6</td>\n",
       "    </tr>\n",
       "  </tbody>\n",
       "</table>\n",
       "</div>"
      ],
      "text/plain": [
       "   Well   Cell                            Treatment  Slope  Intercept  \\\n",
       "0    A1  PNT1A                              Control    0.0        0.0   \n",
       "1    A2  PNT1A                              Control    0.0        0.0   \n",
       "2    A3  PNT1A                    Methacycline 5 uM    0.0        0.0   \n",
       "3    A4    PC3                              Control    0.0        0.0   \n",
       "4    A5    PC3                              Control    0.0        0.0   \n",
       "5    A6    PC3                    Methacycline 5 uM    0.0        0.0   \n",
       "6    B1  PNT1A                        TGF-B 1 ng/mL    0.0        0.0   \n",
       "7    B2  PNT1A                        TGF-B 1 ng/mL    0.0        0.0   \n",
       "8    B3  PNT1A                   Methacycline 10 uM    0.0        0.0   \n",
       "9    B4    PC3                        TGF-B 1 ng/mL    0.0        0.0   \n",
       "10   B5    PC3                        TGF-B 1 ng/mL    0.0        0.0   \n",
       "11   B6    PC3                   Methacycline 10 uM    0.0        0.0   \n",
       "12   C1  PNT1A                        TGF-B 5 ng/mL    0.0        0.0   \n",
       "13   C2  PNT1A                        TGF-B 5 ng/mL    0.0        0.0   \n",
       "14   C3  PNT1A                   Methacycline 20 uM    0.0        0.0   \n",
       "15   C4    PC3                        TGF-B 5 ng/mL    0.0        0.0   \n",
       "16   C5    PC3                        TGF-B 5 ng/mL    0.0        0.0   \n",
       "17   C6    PC3                   Methacycline 20 uM    0.0        0.0   \n",
       "18   D1  PNT1A                       TGF-B 10 ng/mL    0.0        0.0   \n",
       "19   D2  PNT1A                       TGF-B 10 ng/mL    0.0        0.0   \n",
       "20   D3  PNT1A  Methacycline 20 uM + TGF-B 10 ng/mL    0.0        0.0   \n",
       "21   D4    PC3                       TGF-B 10 ng/mL    0.0        0.0   \n",
       "22   D5    PC3                       TGF-B 10 ng/mL    0.0        0.0   \n",
       "23   D6    PC3  Methacycline 20 uM + TGF-B 10 ng/mL    0.0        0.0   \n",
       "\n",
       "    R^2 score  Velocity  Time  Begin  End  \n",
       "0         0.0       0.0   0.0    0.0  0.6  \n",
       "1         0.0       0.0   0.0    0.0  0.6  \n",
       "2         0.0       0.0   0.0    0.0  0.6  \n",
       "3         0.0       0.0   0.0    0.0  0.6  \n",
       "4         0.0       0.0   0.0    0.0  0.6  \n",
       "5         0.0       0.0   0.0    0.0  0.6  \n",
       "6         0.0       0.0   0.0    0.0  0.6  \n",
       "7         0.0       0.0   0.0    0.0  0.6  \n",
       "8         0.0       0.0   0.0    0.0  0.6  \n",
       "9         0.0       0.0   0.0    0.0  0.6  \n",
       "10        0.0       0.0   0.0    0.0  0.6  \n",
       "11        0.0       0.0   0.0    0.0  0.6  \n",
       "12        0.0       0.0   0.0    0.0  0.6  \n",
       "13        0.0       0.0   0.0    0.0  0.6  \n",
       "14        0.0       0.0   0.0    0.0  0.6  \n",
       "15        0.0       0.0   0.0    0.0  0.6  \n",
       "16        0.0       0.0   0.0    0.0  0.6  \n",
       "17        0.0       0.0   0.0    0.0  0.6  \n",
       "18        0.0       0.0   0.0    0.0  0.6  \n",
       "19        0.0       0.0   0.0    0.0  0.6  \n",
       "20        0.0       0.0   0.0    0.0  0.6  \n",
       "21        0.0       0.0   0.0    0.0  0.6  \n",
       "22        0.0       0.0   0.0    0.0  0.6  \n",
       "23        0.0       0.0   0.0    0.0  0.6  "
      ]
     },
     "execution_count": 228,
     "metadata": {},
     "output_type": "execute_result"
    }
   ],
   "source": [
    "layout, date = utilitary.open_layout()\n",
    "layout = utilitary.add_columns(layout)\n",
    "layout.head(25)"
   ]
  },
  {
   "cell_type": "code",
   "execution_count": 230,
   "metadata": {},
   "outputs": [
    {
     "data": {
      "image/png": "[encoded data removed]",
      "text/plain": [
       "<Figure size 432x288 with 1 Axes>"
      ]
     },
     "metadata": {
      "needs_background": "light"
     },
     "output_type": "display_data"
    },
    {
     "data": {
      "image/png": "[encoded data removed]",
      "text/plain": [
       "<Figure size 432x288 with 1 Axes>"
      ]
     },
     "metadata": {
      "needs_background": "light"
     },
     "output_type": "display_data"
    },
    {
     "data": {
      "image/png": "[encoded data removed]",
      "text/plain": [
       "<Figure size 432x288 with 1 Axes>"
      ]
     },
     "metadata": {
      "needs_background": "light"
     },
     "output_type": "display_data"
    },
    {
     "data": {
      "image/png": "[encoded data removed]",
      "text/plain": [
       "<Figure size 432x288 with 1 Axes>"
      ]
     },
     "metadata": {
      "needs_background": "light"
     },
     "output_type": "display_data"
    },
    {
     "data": {
      "image/png": "[encoded data removed]",
      "text/plain": [
       "<Figure size 432x288 with 1 Axes>"
      ]
     },
     "metadata": {
      "needs_background": "light"
     },
     "output_type": "display_data"
    },
    {
     "data": {
      "image/png": "[encoded data removed]",
      "text/plain": [
       "<Figure size 432x288 with 1 Axes>"
      ]
     },
     "metadata": {
      "needs_background": "light"
     },
     "output_type": "display_data"
    },
    {
     "data": {
      "image/png": "[encoded data removed]",
      "text/plain": [
       "<Figure size 432x288 with 1 Axes>"
      ]
     },
     "metadata": {
      "needs_background": "light"
     },
     "output_type": "display_data"
    },
    {
     "data": {
      "image/png": "[encoded data removed]",
      "text/plain": [
       "<Figure size 432x288 with 1 Axes>"
      ]
     },
     "metadata": {
      "needs_background": "light"
     },
     "output_type": "display_data"
    },
    {
     "data": {
      "image/png": "[encoded data removed]",
      "text/plain": [
       "<Figure size 432x288 with 1 Axes>"
      ]
     },
     "metadata": {
      "needs_background": "light"
     },
     "output_type": "display_data"
    },
    {
     "data": {
      "image/png": "[encoded data removed]",
      "text/plain": [
       "<Figure size 432x288 with 1 Axes>"
      ]
     },
     "metadata": {
      "needs_background": "light"
     },
     "output_type": "display_data"
    },
    {
     "data": {
      "image/png": "[encoded data removed]",
      "text/plain": [
       "<Figure size 432x288 with 1 Axes>"
      ]
     },
     "metadata": {
      "needs_background": "light"
     },
     "output_type": "display_data"
    },
    {
     "data": {
      "image/png": "[encoded data removed]",
      "text/plain": [
       "<Figure size 432x288 with 1 Axes>"
      ]
     },
     "metadata": {
      "needs_background": "light"
     },
     "output_type": "display_data"
    }
   ],
   "source": [
    "for i, row in layout.iterrows():\n",
    "    well = row['Well']\n",
    "    index = row.name\n",
    "    try:\n",
    "        df = utilitary.open_df(well, date, pic_total_area, terminator = terminator, area_column = area_column)\n",
    "        begin, end = utilitary.define_end(df, layout, index)\n",
    "        X, y, reg = utilitary.fit_linear_regression(df, layout, begin, end, index, time_column = time_column)\n",
    "        x_fit, y_fit = utilitary.calculate_fit(df, layout, begin, end, index, time_column = time_column)\n",
    "        time = utilitary.time_velocity(layout, index, pic_total_area)\n",
    "        velocity = utilitary.migration_velocity(layout, index, pic_height, objective_conversion)\n",
    "        utilitary.plot(df, layout, begin, end, index, date, well, time, pic_total_area, x_fit, y_fit, time_column = time_column) \n",
    "    except FileNotFoundError:\n",
    "        layout = layout.drop([index])"
   ]
  },
  {
   "cell_type": "markdown",
   "metadata": {},
   "source": [
    "## Change the fitting manually\n",
    "\n",
    "- If you'd like to change a fitting (fit more or less data, different from 60%) use the following function:"
   ]
  },
  {
   "cell_type": "code",
   "execution_count": 226,
   "metadata": {},
   "outputs": [
    {
     "data": {
      "text/html": [
       "<div>\n",
       "<style scoped>\n",
       "    .dataframe tbody tr th:only-of-type {\n",
       "        vertical-align: middle;\n",
       "    }\n",
       "\n",
       "    .dataframe tbody tr th {\n",
       "        vertical-align: top;\n",
       "    }\n",
       "\n",
       "    .dataframe thead th {\n",
       "        text-align: right;\n",
       "    }\n",
       "</style>\n",
       "<table border=\"1\" class=\"dataframe\">\n",
       "  <thead>\n",
       "    <tr style=\"text-align: right;\">\n",
       "      <th></th>\n",
       "      <th>Well</th>\n",
       "      <th>Cell</th>\n",
       "      <th>Treatment</th>\n",
       "      <th>Slope</th>\n",
       "      <th>Intercept</th>\n",
       "      <th>R^2 score</th>\n",
       "      <th>Velocity</th>\n",
       "      <th>Time</th>\n",
       "      <th>Begin</th>\n",
       "      <th>End</th>\n",
       "    </tr>\n",
       "  </thead>\n",
       "  <tbody>\n",
       "    <tr>\n",
       "      <th>0</th>\n",
       "      <td>A1</td>\n",
       "      <td>PNT1A</td>\n",
       "      <td>Control</td>\n",
       "      <td>74.774034</td>\n",
       "      <td>6.615215e+05</td>\n",
       "      <td>0.988329</td>\n",
       "      <td>0.066665</td>\n",
       "      <td>99.182045</td>\n",
       "      <td>0.0</td>\n",
       "      <td>0.6</td>\n",
       "    </tr>\n",
       "    <tr>\n",
       "      <th>3</th>\n",
       "      <td>A4</td>\n",
       "      <td>PC3</td>\n",
       "      <td>Control</td>\n",
       "      <td>869.888095</td>\n",
       "      <td>9.644765e+05</td>\n",
       "      <td>0.993413</td>\n",
       "      <td>0.775551</td>\n",
       "      <td>2.721031</td>\n",
       "      <td>0.0</td>\n",
       "      <td>0.6</td>\n",
       "    </tr>\n",
       "    <tr>\n",
       "      <th>4</th>\n",
       "      <td>A5</td>\n",
       "      <td>PC3</td>\n",
       "      <td>Control</td>\n",
       "      <td>869.888095</td>\n",
       "      <td>9.644765e+05</td>\n",
       "      <td>0.993413</td>\n",
       "      <td>0.775551</td>\n",
       "      <td>2.721031</td>\n",
       "      <td>0.0</td>\n",
       "      <td>0.6</td>\n",
       "    </tr>\n",
       "    <tr>\n",
       "      <th>5</th>\n",
       "      <td>A6</td>\n",
       "      <td>PC3</td>\n",
       "      <td>Methacycline 5 uM</td>\n",
       "      <td>521.305000</td>\n",
       "      <td>1.003566e+06</td>\n",
       "      <td>0.944380</td>\n",
       "      <td>0.464771</td>\n",
       "      <td>3.290782</td>\n",
       "      <td>0.0</td>\n",
       "      <td>0.6</td>\n",
       "    </tr>\n",
       "    <tr>\n",
       "      <th>9</th>\n",
       "      <td>B4</td>\n",
       "      <td>PC3</td>\n",
       "      <td>TGF-B 1 ng/mL</td>\n",
       "      <td>943.506667</td>\n",
       "      <td>1.010423e+06</td>\n",
       "      <td>0.995194</td>\n",
       "      <td>0.841186</td>\n",
       "      <td>1.697087</td>\n",
       "      <td>0.0</td>\n",
       "      <td>0.6</td>\n",
       "    </tr>\n",
       "    <tr>\n",
       "      <th>10</th>\n",
       "      <td>B5</td>\n",
       "      <td>PC3</td>\n",
       "      <td>TGF-B 1 ng/mL</td>\n",
       "      <td>909.006667</td>\n",
       "      <td>1.014558e+06</td>\n",
       "      <td>0.965514</td>\n",
       "      <td>0.810428</td>\n",
       "      <td>1.685684</td>\n",
       "      <td>0.0</td>\n",
       "      <td>0.6</td>\n",
       "    </tr>\n",
       "    <tr>\n",
       "      <th>11</th>\n",
       "      <td>B6</td>\n",
       "      <td>PC3</td>\n",
       "      <td>Methacycline 10 uM</td>\n",
       "      <td>386.262020</td>\n",
       "      <td>9.701564e+05</td>\n",
       "      <td>0.830870</td>\n",
       "      <td>0.344373</td>\n",
       "      <td>5.882865</td>\n",
       "      <td>0.0</td>\n",
       "      <td>0.4</td>\n",
       "    </tr>\n",
       "    <tr>\n",
       "      <th>14</th>\n",
       "      <td>C3</td>\n",
       "      <td>PNT1A</td>\n",
       "      <td>Methacycline 20 uM</td>\n",
       "      <td>73.247542</td>\n",
       "      <td>8.351627e+05</td>\n",
       "      <td>0.995131</td>\n",
       "      <td>0.065304</td>\n",
       "      <td>61.738890</td>\n",
       "      <td>0.0</td>\n",
       "      <td>0.6</td>\n",
       "    </tr>\n",
       "    <tr>\n",
       "      <th>15</th>\n",
       "      <td>C4</td>\n",
       "      <td>PC3</td>\n",
       "      <td>TGF-B 5 ng/mL</td>\n",
       "      <td>621.270000</td>\n",
       "      <td>9.587214e+05</td>\n",
       "      <td>0.918714</td>\n",
       "      <td>0.553895</td>\n",
       "      <td>3.964315</td>\n",
       "      <td>0.0</td>\n",
       "      <td>0.6</td>\n",
       "    </tr>\n",
       "    <tr>\n",
       "      <th>16</th>\n",
       "      <td>C5</td>\n",
       "      <td>PC3</td>\n",
       "      <td>TGF-B 5 ng/mL</td>\n",
       "      <td>916.296667</td>\n",
       "      <td>1.012567e+06</td>\n",
       "      <td>0.986836</td>\n",
       "      <td>0.816927</td>\n",
       "      <td>1.708482</td>\n",
       "      <td>0.0</td>\n",
       "      <td>0.6</td>\n",
       "    </tr>\n",
       "    <tr>\n",
       "      <th>17</th>\n",
       "      <td>C6</td>\n",
       "      <td>PC3</td>\n",
       "      <td>Methacycline 20 uM</td>\n",
       "      <td>204.028431</td>\n",
       "      <td>1.031886e+06</td>\n",
       "      <td>0.826340</td>\n",
       "      <td>0.181902</td>\n",
       "      <td>6.094699</td>\n",
       "      <td>0.0</td>\n",
       "      <td>0.6</td>\n",
       "    </tr>\n",
       "    <tr>\n",
       "      <th>21</th>\n",
       "      <td>D4</td>\n",
       "      <td>PC3</td>\n",
       "      <td>TGF-B 10 ng/mL</td>\n",
       "      <td>584.148333</td>\n",
       "      <td>9.327368e+05</td>\n",
       "      <td>0.971062</td>\n",
       "      <td>0.520799</td>\n",
       "      <td>4.957621</td>\n",
       "      <td>0.0</td>\n",
       "      <td>0.4</td>\n",
       "    </tr>\n",
       "    <tr>\n",
       "      <th>22</th>\n",
       "      <td>D5</td>\n",
       "      <td>PC3</td>\n",
       "      <td>TGF-B 10 ng/mL</td>\n",
       "      <td>472.738788</td>\n",
       "      <td>9.320798e+05</td>\n",
       "      <td>0.957819</td>\n",
       "      <td>0.421472</td>\n",
       "      <td>6.149139</td>\n",
       "      <td>0.0</td>\n",
       "      <td>0.4</td>\n",
       "    </tr>\n",
       "    <tr>\n",
       "      <th>23</th>\n",
       "      <td>D6</td>\n",
       "      <td>PC3</td>\n",
       "      <td>Methacycline 20 uM + TGF-B 10 ng/mL</td>\n",
       "      <td>244.320902</td>\n",
       "      <td>8.980965e+05</td>\n",
       "      <td>0.908998</td>\n",
       "      <td>0.217825</td>\n",
       "      <td>14.216240</td>\n",
       "      <td>0.0</td>\n",
       "      <td>0.4</td>\n",
       "    </tr>\n",
       "  </tbody>\n",
       "</table>\n",
       "</div>"
      ],
      "text/plain": [
       "   Well   Cell                            Treatment       Slope     Intercept  \\\n",
       "0    A1  PNT1A                              Control   74.774034  6.615215e+05   \n",
       "3    A4    PC3                              Control  869.888095  9.644765e+05   \n",
       "4    A5    PC3                              Control  869.888095  9.644765e+05   \n",
       "5    A6    PC3                    Methacycline 5 uM  521.305000  1.003566e+06   \n",
       "9    B4    PC3                        TGF-B 1 ng/mL  943.506667  1.010423e+06   \n",
       "10   B5    PC3                        TGF-B 1 ng/mL  909.006667  1.014558e+06   \n",
       "11   B6    PC3                   Methacycline 10 uM  386.262020  9.701564e+05   \n",
       "14   C3  PNT1A                   Methacycline 20 uM   73.247542  8.351627e+05   \n",
       "15   C4    PC3                        TGF-B 5 ng/mL  621.270000  9.587214e+05   \n",
       "16   C5    PC3                        TGF-B 5 ng/mL  916.296667  1.012567e+06   \n",
       "17   C6    PC3                   Methacycline 20 uM  204.028431  1.031886e+06   \n",
       "21   D4    PC3                       TGF-B 10 ng/mL  584.148333  9.327368e+05   \n",
       "22   D5    PC3                       TGF-B 10 ng/mL  472.738788  9.320798e+05   \n",
       "23   D6    PC3  Methacycline 20 uM + TGF-B 10 ng/mL  244.320902  8.980965e+05   \n",
       "\n",
       "    R^2 score  Velocity       Time  Begin  End  \n",
       "0    0.988329  0.066665  99.182045    0.0  0.6  \n",
       "3    0.993413  0.775551   2.721031    0.0  0.6  \n",
       "4    0.993413  0.775551   2.721031    0.0  0.6  \n",
       "5    0.944380  0.464771   3.290782    0.0  0.6  \n",
       "9    0.995194  0.841186   1.697087    0.0  0.6  \n",
       "10   0.965514  0.810428   1.685684    0.0  0.6  \n",
       "11   0.830870  0.344373   5.882865    0.0  0.4  \n",
       "14   0.995131  0.065304  61.738890    0.0  0.6  \n",
       "15   0.918714  0.553895   3.964315    0.0  0.6  \n",
       "16   0.986836  0.816927   1.708482    0.0  0.6  \n",
       "17   0.826340  0.181902   6.094699    0.0  0.6  \n",
       "21   0.971062  0.520799   4.957621    0.0  0.4  \n",
       "22   0.957819  0.421472   6.149139    0.0  0.4  \n",
       "23   0.908998  0.217825  14.216240    0.0  0.4  "
      ]
     },
     "execution_count": 226,
     "metadata": {},
     "output_type": "execute_result"
    }
   ],
   "source": [
    "layout"
   ]
  },
  {
   "cell_type": "code",
   "execution_count": 229,
   "metadata": {},
   "outputs": [
    {
     "name": "stdin",
     "output_type": "stream",
     "text": [
      "Enter indexes from the wells you wish to change separated by space 18 19\n",
      "Enter the value you'd like to change the end of the fitting (from 0.6 to?) 0.4\n"
     ]
    }
   ],
   "source": [
    "utilitary.change_end_fit(layout)"
   ]
  },
  {
   "cell_type": "markdown",
   "metadata": {},
   "source": [
    "## Change the fitting by testing a few different values"
   ]
  },
  {
   "cell_type": "code",
   "execution_count": 23,
   "metadata": {
    "collapsed": true,
    "jupyter": {
     "outputs_hidden": true,
     "source_hidden": true
    }
   },
   "outputs": [
    {
     "name": "stdout",
     "output_type": "stream",
     "text": [
      "<class 'int'> 11\n",
      "<class 'int'> 11\n",
      "<class 'int'> 11\n",
      "<class 'int'> 11\n",
      "<class 'int'> 11\n",
      "<class 'int'> 11\n",
      "<class 'int'> 11\n",
      "<class 'int'> 11\n",
      "<class 'int'> 11\n",
      "<class 'int'> 11\n",
      "<class 'int'> 11\n"
     ]
    }
   ],
   "source": [
    "for i, row in layout.iterrows():\n",
    "    well = 'B4'\n",
    "    index = row.name\n",
    "    try:\n",
    "        df = utilitary.open_df(well, date, pic_total_area, terminator = terminator, area_column = area_column)\n",
    "        begin, end = utilitary.define_end(df, layout, index)\n",
    "        print(type(end), end)\n",
    "    except FileNotFoundError:\n",
    "        layout = layout.drop([index])"
   ]
  },
  {
   "cell_type": "code",
   "execution_count": 41,
   "metadata": {
    "collapsed": true,
    "jupyter": {
     "outputs_hidden": true
    }
   },
   "outputs": [
    {
     "ename": "ValueError",
     "evalue": "invalid literal for int() with base 10: '0.4'",
     "output_type": "error",
     "traceback": [
      "\u001b[1;31m---------------------------------------------------------------------------\u001b[0m",
      "\u001b[1;31mValueError\u001b[0m                                Traceback (most recent call last)",
      "\u001b[1;32m<ipython-input-41-e33e89ff916b>\u001b[0m in \u001b[0;36m<module>\u001b[1;34m\u001b[0m\n\u001b[0;32m      1\u001b[0m \u001b[0mlist_end\u001b[0m \u001b[1;33m=\u001b[0m \u001b[1;33m[\u001b[0m\u001b[1;34m'0.4'\u001b[0m\u001b[1;33m,\u001b[0m \u001b[1;34m'0.5'\u001b[0m\u001b[1;33m,\u001b[0m \u001b[1;34m'0.6'\u001b[0m\u001b[1;33m]\u001b[0m\u001b[1;33m\u001b[0m\u001b[1;33m\u001b[0m\u001b[0m\n\u001b[1;32m----> 2\u001b[1;33m \u001b[0mlist_end\u001b[0m \u001b[1;33m=\u001b[0m \u001b[1;33m[\u001b[0m\u001b[0mint\u001b[0m\u001b[1;33m(\u001b[0m\u001b[0mn\u001b[0m\u001b[1;33m)\u001b[0m \u001b[1;32mfor\u001b[0m \u001b[0mn\u001b[0m \u001b[1;32min\u001b[0m \u001b[0mlist_end\u001b[0m\u001b[1;33m]\u001b[0m\u001b[1;33m\u001b[0m\u001b[1;33m\u001b[0m\u001b[0m\n\u001b[0m",
      "\u001b[1;32m<ipython-input-41-e33e89ff916b>\u001b[0m in \u001b[0;36m<listcomp>\u001b[1;34m(.0)\u001b[0m\n\u001b[0;32m      1\u001b[0m \u001b[0mlist_end\u001b[0m \u001b[1;33m=\u001b[0m \u001b[1;33m[\u001b[0m\u001b[1;34m'0.4'\u001b[0m\u001b[1;33m,\u001b[0m \u001b[1;34m'0.5'\u001b[0m\u001b[1;33m,\u001b[0m \u001b[1;34m'0.6'\u001b[0m\u001b[1;33m]\u001b[0m\u001b[1;33m\u001b[0m\u001b[1;33m\u001b[0m\u001b[0m\n\u001b[1;32m----> 2\u001b[1;33m \u001b[0mlist_end\u001b[0m \u001b[1;33m=\u001b[0m \u001b[1;33m[\u001b[0m\u001b[0mint\u001b[0m\u001b[1;33m(\u001b[0m\u001b[0mn\u001b[0m\u001b[1;33m)\u001b[0m \u001b[1;32mfor\u001b[0m \u001b[0mn\u001b[0m \u001b[1;32min\u001b[0m \u001b[0mlist_end\u001b[0m\u001b[1;33m]\u001b[0m\u001b[1;33m\u001b[0m\u001b[1;33m\u001b[0m\u001b[0m\n\u001b[0m",
      "\u001b[1;31mValueError\u001b[0m: invalid literal for int() with base 10: '0.4'"
     ]
    }
   ],
   "source": [
    "list_end = ['0.4', '0.5', '0.6']\n",
    "list_end = [int(n) for n in list_end]"
   ]
  },
  {
   "cell_type": "code",
   "execution_count": 40,
   "metadata": {
    "collapsed": true,
    "jupyter": {
     "outputs_hidden": true,
     "source_hidden": true
    }
   },
   "outputs": [
    {
     "ename": "TypeError",
     "evalue": "list indices must be integers or slices, not str",
     "output_type": "error",
     "traceback": [
      "\u001b[1;31m---------------------------------------------------------------------------\u001b[0m",
      "\u001b[1;31mTypeError\u001b[0m                                 Traceback (most recent call last)",
      "\u001b[1;32m<ipython-input-40-7ea5b5971203>\u001b[0m in \u001b[0;36m<module>\u001b[1;34m\u001b[0m\n\u001b[0;32m      7\u001b[0m     \u001b[0mlist_linearfit\u001b[0m \u001b[1;33m=\u001b[0m \u001b[1;33m[\u001b[0m\u001b[1;33m]\u001b[0m\u001b[1;33m\u001b[0m\u001b[1;33m\u001b[0m\u001b[0m\n\u001b[0;32m      8\u001b[0m     \u001b[1;32mfor\u001b[0m \u001b[0mvalue\u001b[0m \u001b[1;32min\u001b[0m \u001b[0mdf\u001b[0m\u001b[1;33m[\u001b[0m\u001b[1;34m'cell covered'\u001b[0m\u001b[1;33m]\u001b[0m\u001b[1;33m:\u001b[0m\u001b[1;33m\u001b[0m\u001b[1;33m\u001b[0m\u001b[0m\n\u001b[1;32m----> 9\u001b[1;33m         \u001b[1;32mif\u001b[0m \u001b[0mvalue\u001b[0m \u001b[1;33m<=\u001b[0m \u001b[0minterpolate_df\u001b[0m\u001b[1;33m(\u001b[0m\u001b[0mlist_end\u001b[0m\u001b[1;33m[\u001b[0m\u001b[0mend\u001b[0m\u001b[1;33m]\u001b[0m\u001b[1;33m)\u001b[0m\u001b[1;33m:\u001b[0m\u001b[1;33m\u001b[0m\u001b[1;33m\u001b[0m\u001b[0m\n\u001b[0m\u001b[0;32m     10\u001b[0m             \u001b[0mlist_linearfit\u001b[0m\u001b[1;33m.\u001b[0m\u001b[0mappend\u001b[0m\u001b[1;33m(\u001b[0m\u001b[0mvalue\u001b[0m\u001b[1;33m)\u001b[0m\u001b[1;33m\u001b[0m\u001b[1;33m\u001b[0m\u001b[0m\n\u001b[0;32m     11\u001b[0m     \u001b[0mbegin\u001b[0m \u001b[1;33m=\u001b[0m \u001b[1;36m0\u001b[0m\u001b[1;33m\u001b[0m\u001b[1;33m\u001b[0m\u001b[0m\n",
      "\u001b[1;31mTypeError\u001b[0m: list indices must be integers or slices, not str"
     ]
    }
   ],
   "source": [
    "from scipy.interpolate import interp1d\n",
    "from sklearn.linear_model import LinearRegression\n",
    "list_scores = []\n",
    "for end in list_end:\n",
    "    interpolate_df = interp1d([0, 1],[df['cell covered'].min(), df['cell covered'].max()]) \n",
    "    #find the value in cell-covered that corresponds to 60% of the data (assuming the higher value is equal to 100%)\n",
    "    list_linearfit = []\n",
    "    for value in df['cell covered']:\n",
    "        if value <= interpolate_df(list_end[end]):\n",
    "            list_linearfit.append(value)\n",
    "    begin = 0\n",
    "    end = len(list_linearfit) \n",
    "    print(begin, end)\n",
    "    \n",
    "#     y = df['cell covered'][begin:end].to_numpy().reshape(-1, 1)\n",
    "#     X = df[time_column][begin:end].to_numpy().reshape(-1, 1)\n",
    "#     reg = LinearRegression().fit(X, y)\n",
    "#     list_scores.append(reg.score(X, y))"
   ]
  },
  {
   "cell_type": "markdown",
   "metadata": {},
   "source": [
    "## Save results in a csv file"
   ]
  },
  {
   "cell_type": "code",
   "execution_count": 231,
   "metadata": {},
   "outputs": [],
   "source": [
    "layout.to_csv(date + '/Results_' + date + '.csv', sep = ',')"
   ]
  },
  {
   "cell_type": "code",
   "execution_count": 179,
   "metadata": {},
   "outputs": [
    {
     "data": {
      "text/html": [
       "<div>\n",
       "<style scoped>\n",
       "    .dataframe tbody tr th:only-of-type {\n",
       "        vertical-align: middle;\n",
       "    }\n",
       "\n",
       "    .dataframe tbody tr th {\n",
       "        vertical-align: top;\n",
       "    }\n",
       "\n",
       "    .dataframe thead th {\n",
       "        text-align: right;\n",
       "    }\n",
       "</style>\n",
       "<table border=\"1\" class=\"dataframe\">\n",
       "  <thead>\n",
       "    <tr style=\"text-align: right;\">\n",
       "      <th></th>\n",
       "      <th>Well</th>\n",
       "      <th>Treatment</th>\n",
       "      <th>Cell</th>\n",
       "      <th>Slope</th>\n",
       "      <th>Intercept</th>\n",
       "      <th>R^2 score</th>\n",
       "      <th>Velocity</th>\n",
       "      <th>Time</th>\n",
       "      <th>Begin</th>\n",
       "      <th>End</th>\n",
       "    </tr>\n",
       "  </thead>\n",
       "  <tbody>\n",
       "    <tr>\n",
       "      <th>0</th>\n",
       "      <td>A1</td>\n",
       "      <td>Control</td>\n",
       "      <td>PNT1A</td>\n",
       "      <td>-448.532213</td>\n",
       "      <td>7.206060e+05</td>\n",
       "      <td>0.286805</td>\n",
       "      <td>-0.399890</td>\n",
       "      <td>-14.338992</td>\n",
       "      <td>0.0</td>\n",
       "      <td>0.60</td>\n",
       "    </tr>\n",
       "    <tr>\n",
       "      <th>1</th>\n",
       "      <td>A2</td>\n",
       "      <td>SLN 0,2X</td>\n",
       "      <td>PNT1A</td>\n",
       "      <td>77.039694</td>\n",
       "      <td>4.283160e+05</td>\n",
       "      <td>0.810924</td>\n",
       "      <td>0.068685</td>\n",
       "      <td>146.716578</td>\n",
       "      <td>0.0</td>\n",
       "      <td>0.60</td>\n",
       "    </tr>\n",
       "    <tr>\n",
       "      <th>3</th>\n",
       "      <td>A4</td>\n",
       "      <td>Control</td>\n",
       "      <td>PC3</td>\n",
       "      <td>112.198336</td>\n",
       "      <td>9.749114e+05</td>\n",
       "      <td>0.894910</td>\n",
       "      <td>0.100031</td>\n",
       "      <td>19.546431</td>\n",
       "      <td>0.0</td>\n",
       "      <td>0.80</td>\n",
       "    </tr>\n",
       "    <tr>\n",
       "      <th>4</th>\n",
       "      <td>A5</td>\n",
       "      <td>SLN 0,2X</td>\n",
       "      <td>PC3</td>\n",
       "      <td>129.443064</td>\n",
       "      <td>9.543782e+05</td>\n",
       "      <td>0.862771</td>\n",
       "      <td>0.115405</td>\n",
       "      <td>19.586189</td>\n",
       "      <td>0.0</td>\n",
       "      <td>0.60</td>\n",
       "    </tr>\n",
       "    <tr>\n",
       "      <th>5</th>\n",
       "      <td>A6</td>\n",
       "      <td>SLN 0,02X</td>\n",
       "      <td>PC3</td>\n",
       "      <td>82.126232</td>\n",
       "      <td>9.476758e+05</td>\n",
       "      <td>0.957116</td>\n",
       "      <td>0.073220</td>\n",
       "      <td>32.230908</td>\n",
       "      <td>0.0</td>\n",
       "      <td>0.60</td>\n",
       "    </tr>\n",
       "    <tr>\n",
       "      <th>6</th>\n",
       "      <td>B1</td>\n",
       "      <td>Control</td>\n",
       "      <td>PNT1A</td>\n",
       "      <td>99.247184</td>\n",
       "      <td>6.923158e+05</td>\n",
       "      <td>0.963736</td>\n",
       "      <td>0.088484</td>\n",
       "      <td>69.553644</td>\n",
       "      <td>0.0</td>\n",
       "      <td>0.60</td>\n",
       "    </tr>\n",
       "    <tr>\n",
       "      <th>9</th>\n",
       "      <td>B4</td>\n",
       "      <td>Control</td>\n",
       "      <td>PC3</td>\n",
       "      <td>119.137043</td>\n",
       "      <td>9.198887e+05</td>\n",
       "      <td>0.932190</td>\n",
       "      <td>0.106217</td>\n",
       "      <td>26.105419</td>\n",
       "      <td>0.0</td>\n",
       "      <td>0.80</td>\n",
       "    </tr>\n",
       "    <tr>\n",
       "      <th>10</th>\n",
       "      <td>B5</td>\n",
       "      <td>SLN 0,2X</td>\n",
       "      <td>PC3</td>\n",
       "      <td>84.940074</td>\n",
       "      <td>1.001632e+06</td>\n",
       "      <td>0.867020</td>\n",
       "      <td>0.075729</td>\n",
       "      <td>20.576160</td>\n",
       "      <td>0.0</td>\n",
       "      <td>0.60</td>\n",
       "    </tr>\n",
       "    <tr>\n",
       "      <th>11</th>\n",
       "      <td>B6</td>\n",
       "      <td>SLN 0,02X</td>\n",
       "      <td>PC3</td>\n",
       "      <td>37.436114</td>\n",
       "      <td>9.754759e+05</td>\n",
       "      <td>0.839080</td>\n",
       "      <td>0.033376</td>\n",
       "      <td>58.330541</td>\n",
       "      <td>0.0</td>\n",
       "      <td>0.60</td>\n",
       "    </tr>\n",
       "    <tr>\n",
       "      <th>15</th>\n",
       "      <td>C4</td>\n",
       "      <td>SLN 1X</td>\n",
       "      <td>PC3</td>\n",
       "      <td>181.792814</td>\n",
       "      <td>9.388354e+05</td>\n",
       "      <td>0.956254</td>\n",
       "      <td>0.162078</td>\n",
       "      <td>15.371034</td>\n",
       "      <td>0.0</td>\n",
       "      <td>0.35</td>\n",
       "    </tr>\n",
       "    <tr>\n",
       "      <th>16</th>\n",
       "      <td>C5</td>\n",
       "      <td>SLN 0,1X</td>\n",
       "      <td>PC3</td>\n",
       "      <td>88.671299</td>\n",
       "      <td>1.006844e+06</td>\n",
       "      <td>0.848197</td>\n",
       "      <td>0.079055</td>\n",
       "      <td>18.730691</td>\n",
       "      <td>0.0</td>\n",
       "      <td>0.60</td>\n",
       "    </tr>\n",
       "    <tr>\n",
       "      <th>17</th>\n",
       "      <td>C6</td>\n",
       "      <td>SLN 2X</td>\n",
       "      <td>PC3</td>\n",
       "      <td>423.484524</td>\n",
       "      <td>8.183927e+05</td>\n",
       "      <td>0.995180</td>\n",
       "      <td>0.377559</td>\n",
       "      <td>11.338600</td>\n",
       "      <td>0.0</td>\n",
       "      <td>0.40</td>\n",
       "    </tr>\n",
       "    <tr>\n",
       "      <th>21</th>\n",
       "      <td>D4</td>\n",
       "      <td>SLN 1X</td>\n",
       "      <td>PC3</td>\n",
       "      <td>187.528319</td>\n",
       "      <td>8.803706e+05</td>\n",
       "      <td>0.970965</td>\n",
       "      <td>0.167191</td>\n",
       "      <td>20.096997</td>\n",
       "      <td>0.0</td>\n",
       "      <td>0.40</td>\n",
       "    </tr>\n",
       "    <tr>\n",
       "      <th>22</th>\n",
       "      <td>D5</td>\n",
       "      <td>SLN 0,1X</td>\n",
       "      <td>PC3</td>\n",
       "      <td>88.747583</td>\n",
       "      <td>8.292402e+05</td>\n",
       "      <td>0.911257</td>\n",
       "      <td>0.079123</td>\n",
       "      <td>52.068242</td>\n",
       "      <td>0.0</td>\n",
       "      <td>0.60</td>\n",
       "    </tr>\n",
       "    <tr>\n",
       "      <th>23</th>\n",
       "      <td>D6</td>\n",
       "      <td>SLN 2X</td>\n",
       "      <td>PC3</td>\n",
       "      <td>13.947210</td>\n",
       "      <td>8.782084e+05</td>\n",
       "      <td>0.123704</td>\n",
       "      <td>0.012435</td>\n",
       "      <td>272.799623</td>\n",
       "      <td>0.0</td>\n",
       "      <td>0.60</td>\n",
       "    </tr>\n",
       "  </tbody>\n",
       "</table>\n",
       "</div>"
      ],
      "text/plain": [
       "   Well  Treatment   Cell       Slope     Intercept  R^2 score  Velocity  \\\n",
       "0    A1    Control  PNT1A -448.532213  7.206060e+05   0.286805 -0.399890   \n",
       "1    A2   SLN 0,2X  PNT1A   77.039694  4.283160e+05   0.810924  0.068685   \n",
       "3    A4    Control    PC3  112.198336  9.749114e+05   0.894910  0.100031   \n",
       "4    A5   SLN 0,2X    PC3  129.443064  9.543782e+05   0.862771  0.115405   \n",
       "5    A6  SLN 0,02X    PC3   82.126232  9.476758e+05   0.957116  0.073220   \n",
       "6    B1    Control  PNT1A   99.247184  6.923158e+05   0.963736  0.088484   \n",
       "9    B4    Control    PC3  119.137043  9.198887e+05   0.932190  0.106217   \n",
       "10   B5   SLN 0,2X    PC3   84.940074  1.001632e+06   0.867020  0.075729   \n",
       "11   B6  SLN 0,02X    PC3   37.436114  9.754759e+05   0.839080  0.033376   \n",
       "15   C4     SLN 1X    PC3  181.792814  9.388354e+05   0.956254  0.162078   \n",
       "16   C5   SLN 0,1X    PC3   88.671299  1.006844e+06   0.848197  0.079055   \n",
       "17   C6     SLN 2X    PC3  423.484524  8.183927e+05   0.995180  0.377559   \n",
       "21   D4     SLN 1X    PC3  187.528319  8.803706e+05   0.970965  0.167191   \n",
       "22   D5   SLN 0,1X    PC3   88.747583  8.292402e+05   0.911257  0.079123   \n",
       "23   D6     SLN 2X    PC3   13.947210  8.782084e+05   0.123704  0.012435   \n",
       "\n",
       "          Time  Begin   End  \n",
       "0   -14.338992    0.0  0.60  \n",
       "1   146.716578    0.0  0.60  \n",
       "3    19.546431    0.0  0.80  \n",
       "4    19.586189    0.0  0.60  \n",
       "5    32.230908    0.0  0.60  \n",
       "6    69.553644    0.0  0.60  \n",
       "9    26.105419    0.0  0.80  \n",
       "10   20.576160    0.0  0.60  \n",
       "11   58.330541    0.0  0.60  \n",
       "15   15.371034    0.0  0.35  \n",
       "16   18.730691    0.0  0.60  \n",
       "17   11.338600    0.0  0.40  \n",
       "21   20.096997    0.0  0.40  \n",
       "22   52.068242    0.0  0.60  \n",
       "23  272.799623    0.0  0.60  "
      ]
     },
     "execution_count": 179,
     "metadata": {},
     "output_type": "execute_result"
    }
   ],
   "source": [
    "layout"
   ]
  },
  {
   "cell_type": "markdown",
   "metadata": {},
   "source": [
    "## Import results"
   ]
  },
  {
   "cell_type": "code",
   "execution_count": 143,
   "metadata": {},
   "outputs": [
    {
     "name": "stdin",
     "output_type": "stream",
     "text": [
      "Which is the date of your experiment (YYYYMMD)? Provide the path if different from YYYYMMDD 20191113\n"
     ]
    }
   ],
   "source": [
    "df, date = utilitary.import_results()"
   ]
  },
  {
   "cell_type": "markdown",
   "metadata": {},
   "source": [
    "## Get hue order"
   ]
  },
  {
   "cell_type": "code",
   "execution_count": null,
   "metadata": {},
   "outputs": [],
   "source": [
    "hueorder = sorted(list(df['Treatment'].unique()))\n",
    "hueorder"
   ]
  },
  {
   "cell_type": "markdown",
   "metadata": {},
   "source": [
    "## Select only positive values of velocity and r2 score higher than 0.75"
   ]
  },
  {
   "cell_type": "code",
   "execution_count": 4,
   "metadata": {},
   "outputs": [],
   "source": [
    "df = df[(df['Velocity']>0)]\n",
    "df = df[(df['R^2score']>0.75)] "
   ]
  }
 ],
 "metadata": {
  "kernelspec": {
   "display_name": "Python 3",
   "language": "python",
   "name": "python3"
  },
  "language_info": {
   "codemirror_mode": {
    "name": "ipython",
    "version": 3
   },
   "file_extension": ".py",
   "mimetype": "text/x-python",
   "name": "python",
   "nbconvert_exporter": "python",
   "pygments_lexer": "ipython3",
   "version": "3.7.3"
  }
 },
 "nbformat": 4,
 "nbformat_minor": 4
}
